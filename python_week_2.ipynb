{
 "cells": [
  {
   "cell_type": "markdown",
   "metadata": {},
   "source": [
    "# Python Week 2 Pod Session\n",
    "\n",
    "Lets work with git and github :) \n",
    "\n",
    "As well as some understanding of loops and conditionals. \n",
    "\n",
    "Please ensure you have retrieved this notebook by forking the following repository: https://github.com/marcmarais/2401ftds_python_week_2.git"
   ]
  },
  {
   "cell_type": "markdown",
   "metadata": {},
   "source": [
    "## Fizz, Buzz and FizzBuzz\n",
    "\n",
    "Write a Python program that iterates the integers from 1 to 50. For multiples of three print \"Fizz\" instead of the number and for multiples of five print \"Buzz\". For numbers that are multiples of three and five, print \"FizzBuzz\"."
   ]
  },
  {
   "cell_type": "code",
   "execution_count": null,
   "metadata": {},
   "outputs": [],
   "source": [
    "# Iterate through numbers from 0 to 50 using the range function\n",
    "for fizzbuzz in range(51):\n",
    "    # Check if the current number is divisible by both 3 and 5 (i.e., divisible by 15)\n",
    "    if fizzbuzz % 3 == 0 and fizzbuzz % 5 == 0:\n",
    "        # If divisible by both 3 and 5, print \"fizzbuzz\" and continue to the next iteration\n",
    "        print(\"fizzbuzz\")\n",
    "        continue\n",
    "    # Check if the current number is divisible only by 3\n",
    "    elif fizzbuzz % 3 == 0:\n",
    "        # If divisible only by 3, print \"fizz\" and continue to the next iteration\n",
    "        print(\"fizz\")\n",
    "        continue\n",
    "    # Check if the current number is divisible only by 5\n",
    "    elif fizzbuzz % 5 == 0:\n",
    "        # If divisible only by 5, print \"buzz\" and continue to the next iteration\n",
    "        print(\"buzz\")\n",
    "        continue\n",
    "    # If the number is neither divisible by 3 nor 5, print the number itself\n",
    "    print(fizzbuzz) "
   ]
  }
 ],
 "metadata": {
  "language_info": {
   "name": "python"
  }
 },
 "nbformat": 4,
 "nbformat_minor": 2
}
